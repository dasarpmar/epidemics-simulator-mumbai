{
 "cells": [
  {
   "cell_type": "code",
   "execution_count": null,
   "metadata": {},
   "outputs": [],
   "source": [
    "import tabula\n",
    "import pandas as pd\n",
    "import itertools\n",
    "import warnings\n",
    "warnings.filterwarnings('ignore')"
   ]
  },
  {
   "cell_type": "markdown",
   "metadata": {},
   "source": [
    "# Fraction of people living in high-density areas in Mumbai\n",
    "\n",
    "We compute the fraction of population living in high-density areas in the various Mumbai wards.  Our data source is a [summary](https://portal.mcgm.gov.in/irj/go/km/docs/documents/MCGM%20Department%20List/Public%20Health%20Department/Docs/Census%20FAQ%20%26%20Answer.pdf) of the 2011 Census data.  This is stored in the file `bmc-census-data.pdf`.\n",
    "\n",
    "\n",
    "To run this file, you need to install the `tabula-py` package using\n",
    "\n",
    "```\n",
    "pip install tabula-py\n",
    "```\n",
    "\n",
    "Please take care not *not* to install the similarly named `tabula` package instead!\n",
    "\n",
    "To install this package, you need to have Java (version 8 or higher) installed and the `java` command accessible from the shell in which you run `pip`."
   ]
  },
  {
   "cell_type": "code",
   "execution_count": null,
   "metadata": {},
   "outputs": [],
   "source": [
    "dfs = tabula.read_pdf(\"bmc-census-data.pdf\", pages = \"all\");\n",
    "#Generates some font warnings that are suppressed in the PDF output"
   ]
  },
  {
   "cell_type": "code",
   "execution_count": null,
   "metadata": {},
   "outputs": [],
   "source": [
    "ward_df = dfs[28].iloc[4:-1].reset_index(drop = True).apply(lambda x: pd.to_numeric(x, errors = 'ignore'))\n",
    "ward_df.columns = [\"ward\", \"num_households\",\n",
    "                   \"total\", \"male\", \"female\",\n",
    "                   \"total_0-6\", \"male_0-6\", \"female_0-6\",\n",
    "                   \"total_literate\", \"male_literate\", \"female_literate\",\n",
    "                   \"total_illiterate\", \"male_illiterate\", \"female_illiterate\"\n",
    "                  ]\n",
    "ward_df.iloc[24,0] = \"Total\"\n"
   ]
  },
  {
   "cell_type": "code",
   "execution_count": null,
   "metadata": {},
   "outputs": [],
   "source": [
    "hd_area_df = dfs[29].iloc[2:].reset_index(drop = True).apply(lambda x: pd.to_numeric(x, errors = 'ignore'))\n",
    "hd_area_df.columns = [\"ward\", \"rough_total\", \"non_hd_area_count\"]\n",
    "hd_area_df = pd.concat([\n",
    "        hd_area_df,\n",
    "        pd.DataFrame(\n",
    "            map(lambda x: list(map(int, x.split())),\n",
    "            hd_area_df[\"rough_total\"].to_list()),\n",
    "            columns = [\"total\", \"hd_area_count\"]\n",
    "        )],\n",
    "    axis = 1         \n",
    ").loc[:, [\"ward\", \"total\", \"hd_area_count\", \"non_hd_area_count\"]]\n",
    "\n",
    "#Fix the ward \"H/W\" appearing as \"HW\"\n",
    "hd_area_df.loc[:, \"ward\"] = hd_area_df.loc[:, \"ward\"].map(lambda x: x if x != \"HW\" else \"H/W\")\n",
    "\n",
    "#Compute the fraction\n",
    "hd_area_df.loc[:, \"hd_area_fraction\"] = hd_area_df.eval('hd_area_count/total')\n",
    "hd_area_df"
   ]
  },
  {
   "cell_type": "code",
   "execution_count": null,
   "metadata": {},
   "outputs": [],
   "source": [
    "#ward_df.to_excel(\"bmc_census_2011_ward_counts.xlsx\")"
   ]
  },
  {
   "cell_type": "code",
   "execution_count": null,
   "metadata": {},
   "outputs": [],
   "source": [
    "#hd_area_df.to_excel(\"bmc_census_2011_hd_area_counts.xlsx\")"
   ]
  },
  {
   "cell_type": "markdown",
   "metadata": {},
   "source": [
    "# Checks"
   ]
  },
  {
   "cell_type": "code",
   "execution_count": null,
   "metadata": {},
   "outputs": [],
   "source": [
    "hd_area_df.query('total != hd_area_count + non_hd_area_count').empty"
   ]
  },
  {
   "cell_type": "code",
   "execution_count": null,
   "metadata": {},
   "outputs": [],
   "source": [
    "ward_df.query('total != male + female').empty"
   ]
  },
  {
   "cell_type": "code",
   "execution_count": null,
   "metadata": {},
   "outputs": [],
   "source": [
    "ward_df.query('`total_0-6` != `male_0-6` + `female_0-6`').empty"
   ]
  },
  {
   "cell_type": "code",
   "execution_count": null,
   "metadata": {},
   "outputs": [],
   "source": [
    "ward_df.query('`total_literate` != `male_literate` + `female_literate`').empty"
   ]
  },
  {
   "cell_type": "code",
   "execution_count": null,
   "metadata": {},
   "outputs": [],
   "source": [
    "ward_df.query('`total_illiterate` != `male_illiterate` + `female_illiterate`')"
   ]
  },
  {
   "cell_type": "markdown",
   "metadata": {},
   "source": [
    "### Note:\n",
    "\n",
    "The above two rows seem to have an inconsistency even in the origianl PDF file."
   ]
  },
  {
   "cell_type": "markdown",
   "metadata": {},
   "source": [
    "# Some file generation"
   ]
  },
  {
   "cell_type": "code",
   "execution_count": null,
   "metadata": {},
   "outputs": [],
   "source": [
    "ward_frac_df = hd_area_df.drop(\n",
    "    hd_area_df.query(\n",
    "        'ward in [\"City\", \"Total\", \"W.S.\", \"E.S.\"]'\n",
    "    ).index\n",
    ").sort_values(by = \"ward\").reset_index(drop = True)\n",
    "ward_frac_df.loc[:, \"wardNo\"] = ward_frac_df.index + 1\n",
    "ward_frac_df.loc[:, \"wardIndex\"] = ward_frac_df.index\n",
    "ward_frac_df.rename(columns = {\n",
    "    \"ward\": \"bmcWardID\",\n",
    "    \"hd_area_fraction\": \"slumFractionalPopulation\"\n",
    "}, inplace = True)"
   ]
  },
  {
   "cell_type": "code",
   "execution_count": null,
   "metadata": {},
   "outputs": [],
   "source": [
    "ward_frac_df"
   ]
  },
  {
   "cell_type": "code",
   "execution_count": null,
   "metadata": {},
   "outputs": [],
   "source": [
    "output_ward_frac_df = ward_frac_df.loc[:, [\"wardIndex\", \"wardNo\", \"slumFractionalPopulation\", \"bmcWardID\"]]"
   ]
  },
  {
   "cell_type": "code",
   "execution_count": null,
   "metadata": {},
   "outputs": [],
   "source": [
    "output_ward_frac_df"
   ]
  },
  {
   "cell_type": "code",
   "execution_count": null,
   "metadata": {},
   "outputs": [],
   "source": [
    "output_ward_frac_df.to_csv(\"../../slumFraction.csv\", index = False)"
   ]
  }
 ],
 "metadata": {
  "kernelspec": {
   "display_name": "Python 3",
   "language": "python",
   "name": "python3"
  },
  "language_info": {
   "codemirror_mode": {
    "name": "ipython",
    "version": 3
   },
   "file_extension": ".py",
   "mimetype": "text/x-python",
   "name": "python",
   "nbconvert_exporter": "python",
   "pygments_lexer": "ipython3",
   "version": "3.8.2"
  }
 },
 "nbformat": 4,
 "nbformat_minor": 4
}
