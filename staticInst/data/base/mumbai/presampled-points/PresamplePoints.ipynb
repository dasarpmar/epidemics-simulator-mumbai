{
 "cells": [
  {
   "cell_type": "code",
   "execution_count": null,
   "metadata": {},
   "outputs": [],
   "source": [
    "import json\n",
    "import geopandas as gpd\n",
    "import pandas as pd\n",
    "import math\n",
    "from shapely.geometry import Point, MultiPolygon\n",
    "from descartes import PolygonPatch\n",
    "\n",
    "import csv\n",
    "import numpy as np\n",
    "import random\n",
    "import matplotlib.pyplot as plt\n",
    "\n",
    "import os\n"
   ]
  },
  {
   "cell_type": "code",
   "execution_count": null,
   "metadata": {},
   "outputs": [],
   "source": [
    "demographics = pd.read_csv(\"../demographics.csv\")\n",
    "demographics['wardIndex'] = demographics['wardIndex'].astype(int)\n",
    "demographics['wardNo'] = demographics['wardNo'].astype(int)\n",
    "demographics = demographics.sort_values('wardIndex').reset_index(drop=True)\n",
    "\n",
    "geoDF = gpd.read_file(\"../city.geojson\")\n",
    "geoDF['wardNo'] = geoDF['wardNo'].astype(int)\n",
    "geoDF['wardIndex'] = geoDF['wardNo'] - 1\n",
    "geoDF = geoDF[['wardIndex','wardNo', 'wardName', 'geometry']]\n",
    "geoDF['wardBounds'] = geoDF.apply(lambda row: MultiPolygon(row['geometry']).bounds, axis=1)\n",
    "geoDF.sort_values('wardIndex', inplace=True)\n",
    "geoDF = geoDF.reset_index(drop=True)"
   ]
  },
  {
   "cell_type": "code",
   "execution_count": null,
   "metadata": {},
   "outputs": [],
   "source": [
    "print(f\"{'wardIndex'.ljust(10)}{'city.geojson'.ljust(20)}{'demographics.csv'.ljust(20)}\")\n",
    "for i in range(geoDF.shape[0]):\n",
    "    if geoDF[\"wardName\"].iloc[i] != demographics['wardName'].iloc[i]:\n",
    "        print(f\"\\nWARNING: Check if this is a mismatch!\")\n",
    "    print(f\"{str(i).ljust(10)}{geoDF['wardName'].iloc[i].ljust(20)}{demographics['wardName'].iloc[i].ljust(20)}\") \n",
    "        \n"
   ]
  },
  {
   "cell_type": "code",
   "execution_count": null,
   "metadata": {},
   "outputs": [],
   "source": [
    "geoDFslums = gpd.read_file('slumClusters.geojson')\n",
    "wardslums = [[] for _ in range(len(geoDF))]\n",
    "for i in range(len(geoDFslums)):\n",
    "    for j in range(len(geoDF)):\n",
    "        if geoDFslums[\"geometry\"].iloc[i].intersects(geoDF[\"geometry\"].iloc[j]):\n",
    "            wardslums[j].append(i)"
   ]
  },
  {
   "cell_type": "code",
   "execution_count": null,
   "metadata": {
    "scrolled": false
   },
   "outputs": [],
   "source": [
    "for w in range(nwards):\n",
    "    fig = plt.figure(figsize=(15,10))\n",
    "    plt.title(f\"{demographics['wardName'].iloc[w]}\")\n",
    "    ax = fig.gca() \n",
    "    ax.add_patch(PolygonPatch(geoDF[\"geometry\"].iloc[w], fc=\"blue\", ec=\"blue\", alpha=0.1, zorder=2 ))\n",
    "    for s in wardslums[w]:\n",
    "        ax.add_patch(PolygonPatch(geoDFslums[\"geometry\"].iloc[s], fc=\"red\", ec=\"red\", zorder=2 ))\n",
    "    ax.axis('scaled')\n",
    "    fig.show()"
   ]
  },
  {
   "cell_type": "code",
   "execution_count": null,
   "metadata": {},
   "outputs": [],
   "source": [
    "def sampleRandomLatLong(wardIndex):\n",
    "    #IMPORTANT: geoDF uses (lon, lat) order\n",
    "    (lon1,lat1,lon2,lat2) = geoDF['wardBounds'].iloc[wardIndex]\n",
    "    while True:\n",
    "        lat = random.uniform(lat1,lat2)\n",
    "        lon = random.uniform(lon1,lon2)\n",
    "        point = Point(lon,lat)\n",
    "        if MultiPolygon(geoDF['geometry'].iloc[wardIndex]).contains(point):\n",
    "            return (lat,lon)\n",
    "        \n",
    "def sampleRandomLatLong_hd(wardIndex):\n",
    "    while True:\n",
    "        (lat,lon) = sampleRandomLatLong(wardIndex)\n",
    "        point = Point(lon,lat) #IMPORTANT: Point takes in order of longitude, latitude\n",
    "        \n",
    "        if len(wardslums[wardIndex])==0:\n",
    "            #No designated hd areas in this ward. Return random point\n",
    "            return (lat,lon)\n",
    "        else:\n",
    "            for i in wardslums[wardIndex]:\n",
    "                if geoDFslums[\"geometry\"].iloc[i].contains(point):\n",
    "                    return (lat,lon)"
   ]
  },
  {
   "cell_type": "code",
   "execution_count": null,
   "metadata": {},
   "outputs": [],
   "source": [
    "numpoints = 1000\n",
    "nwards = 24\n",
    "for i in range(nwards):\n",
    "    print(f\"Generating points for ward {i+1}\")\n",
    "\n",
    "    fname=str(i)+\".csv\"\n",
    "    print(f\"{fname}:\")\n",
    "    with open(fname, mode='w+') as file:\n",
    "        writer = csv.writer(file, delimiter=',', quotechar='\"', quoting=csv.QUOTE_MINIMAL)\n",
    "        for count in range(numpoints):\n",
    "            (lat,lon) = sampleRandomLatLong(i)\n",
    "            writer.writerow([str(lat),str(lon)])\n",
    "            if count % 20 == 0:\n",
    "                print(\".\",end='')\n",
    "    print(\"\")"
   ]
  },
  {
   "cell_type": "code",
   "execution_count": null,
   "metadata": {},
   "outputs": [],
   "source": [
    "for i in range(nwards):\n",
    "    print(f\"Generating points for ward {i+1} hd_area\")\n",
    "\n",
    "    fname=str(i + nwards)+\".csv\"\n",
    "    print(f\"{fname}:\")\n",
    "    with open(fname, mode='w+') as file:\n",
    "        writer = csv.writer(file, delimiter=',', quotechar='\"', quoting=csv.QUOTE_MINIMAL)\n",
    "        for count in range(numpoints):\n",
    "            (lat,lon) = sampleRandomLatLong_hd(i)\n",
    "            writer.writerow([str(lat),str(lon)])\n",
    "            if count % 20 == 0:\n",
    "                print(\".\",end='')\n",
    "    print(\"\")\n"
   ]
  },
  {
   "cell_type": "code",
   "execution_count": null,
   "metadata": {
    "scrolled": false
   },
   "outputs": [],
   "source": [
    "for w in range(nwards):\n",
    "    df_points = pd.read_csv(f\"{w}.csv\", header=None, names=[\"lat\", \"lon\"])\n",
    "    df_points_hd = pd.read_csv(f\"{w + nwards}.csv\", header=None, names=[\"lat\", \"lon\"])\n",
    "\n",
    "    fig = plt.figure(figsize=(15,10))\n",
    "    plt.title(f\"{demographics['wardName'].iloc[w]}\")\n",
    "    ax = fig.gca() \n",
    "    ax.add_patch(PolygonPatch(geoDF[\"geometry\"].iloc[w], fc=\"blue\", ec=\"blue\", alpha=0.1, zorder=1 ))\n",
    "    for s in wardslums[w]:\n",
    "        ax.add_patch(PolygonPatch(geoDFslums[\"geometry\"].iloc[s], fc=\"red\", ec=\"red\", zorder=2 ))\n",
    "    ax.scatter(df_points['lon'], df_points['lat'], c=\"blue\", alpha=0.5,zorder=3)\n",
    "    ax.scatter(df_points_hd['lon'], df_points_hd['lat'], c=\"yellow\", alpha=0.5,zorder=4)\n",
    "\n",
    "    ax.axis('scaled')\n",
    "    fig.show()"
   ]
  },
  {
   "cell_type": "code",
   "execution_count": null,
   "metadata": {},
   "outputs": [],
   "source": []
  }
 ],
 "metadata": {
  "kernelspec": {
   "display_name": "Python 3",
   "language": "python",
   "name": "python3"
  },
  "language_info": {
   "codemirror_mode": {
    "name": "ipython",
    "version": 3
   },
   "file_extension": ".py",
   "mimetype": "text/x-python",
   "name": "python",
   "nbconvert_exporter": "python",
   "pygments_lexer": "ipython3",
   "version": "3.7.3"
  }
 },
 "nbformat": 4,
 "nbformat_minor": 4
}
